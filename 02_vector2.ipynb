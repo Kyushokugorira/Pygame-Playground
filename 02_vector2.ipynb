{
 "cells": [
  {
   "cell_type": "code",
   "execution_count": 1,
   "metadata": {},
   "outputs": [
    {
     "name": "stdout",
     "output_type": "stream",
     "text": [
      "pygame 2.5.2 (SDL 2.28.3, Python 3.11.4)\n",
      "Hello from the pygame community. https://www.pygame.org/contribute.html\n",
      "[31.5, 42.9]\n",
      "31.5\n",
      "42.9\n",
      "<class 'pygame.math.Vector2'>\n",
      "<class 'float'>\n",
      "<class 'float'>\n",
      "[77.7, 42.9]\n"
     ]
    }
   ],
   "source": [
    "%reset -f\n",
    "import pygame as pg\n",
    "\n",
    "vec_a = pg.Vector2(31.5, 42.9) # 初期化\n",
    "\n",
    "print(vec_a)         # => [31.5, 42.9]\n",
    "print(vec_a.x)       # => 31.5\n",
    "print(vec_a.y)       # => 42.9\n",
    "\n",
    "print(type(vec_a))   # => <class 'pygame.math.Vector2'>\n",
    "print(type(vec_a.x)) # => <class 'float'>\n",
    "print(type(vec_a.y)) # => <class 'float'>\n",
    "\n",
    "vec_a.x = 77.7\n",
    "print(vec_a)         # => [77.7, 42.9]"
   ]
  },
  {
   "cell_type": "code",
   "execution_count": 2,
   "metadata": {},
   "outputs": [
    {
     "name": "stdout",
     "output_type": "stream",
     "text": [
      "[41.5, 22.9]\n",
      "[21.5, 62.9]\n"
     ]
    }
   ],
   "source": [
    "%reset -f\n",
    "import pygame as pg\n",
    "\n",
    "vec_a = pg.Vector2(31.5, 42.9)\n",
    "vec_b = pg.Vector2(10, -20) \n",
    "\n",
    "vec = vec_a + vec_b  # Vector2同士の加算\n",
    "print(vec) # => [41.5, 22.9]\n",
    "\n",
    "vec = vec_a - vec_b  # Vector2同士の減算\n",
    "print(vec) # => [21.5, 62.9]"
   ]
  },
  {
   "cell_type": "code",
   "execution_count": 3,
   "metadata": {},
   "outputs": [
    {
     "name": "stdout",
     "output_type": "stream",
     "text": [
      "<class 'numpy.ndarray'>\n",
      "[41.5 22.9]\n",
      "[21.5 62.9]\n"
     ]
    }
   ],
   "source": [
    "%reset -f\n",
    "import numpy as np\n",
    "vec_a = np.array([31.5, 42.9])\n",
    "vec_b = np.array([10, -20])\n",
    "\n",
    "print(type(vec_a)) # => <class 'numpy.ndarray'>\n",
    "\n",
    "vec = vec_a + vec_b  # ndarray同士の減算 \n",
    "print(vec) # => [41.5 22.9]\n",
    "\n",
    "vec = vec_a - vec_b  # ndarray同士の減算\n",
    "print(vec) # => [21.5 62.9]"
   ]
  },
  {
   "cell_type": "code",
   "execution_count": 4,
   "metadata": {},
   "outputs": [
    {
     "name": "stdout",
     "output_type": "stream",
     "text": [
      "長さ = 14.142135623730951\n",
      "単位方向ベクトル = [0.707107, 0.707107]\n",
      "角度 = -45.0\n"
     ]
    }
   ],
   "source": [
    "%reset -f\n",
    "import pygame as pg\n",
    "\n",
    "vec = pg.Vector2(10,10)\n",
    "\n",
    "# vecの長さ（大きさ）を計算\n",
    "length = vec.length() \n",
    "print(f'長さ = {length}') \n",
    "\n",
    "# vecの単位方向ベクトルを計算\n",
    "unit_vector = vec.normalize()\n",
    "print(f'単位方向ベクトル = {unit_vector}') \n",
    "\n",
    "# 別のベクトルとの角度を計算\n",
    "angle = vec.angle_to(pg.Vector2(10,0))\n",
    "print(f'角度 = {angle}') "
   ]
  },
  {
   "cell_type": "code",
   "execution_count": 8,
   "metadata": {},
   "outputs": [
    {
     "name": "stdout",
     "output_type": "stream",
     "text": [
      "長さ = 5.0\n",
      "単位方向ベクトル = [0.6, 0.8]\n",
      "角度 = -53.13010235415598\n",
      "[1.5, 2]\n",
      "[6, 8]\n"
     ]
    }
   ],
   "source": [
    "%reset -f\n",
    "import pygame as pg\n",
    "\n",
    "vec = pg.Vector2(3,4)\n",
    "\n",
    "# vecの長さ（大きさ）を計算\n",
    "length = vec.length() \n",
    "print(f'長さ = {length}') \n",
    "\n",
    "# vecの単位方向ベクトルを計算\n",
    "unit_vector = vec.normalize()\n",
    "print(f'単位方向ベクトル = {unit_vector}') \n",
    "\n",
    "# 別のベクトルとの角度を計算\n",
    "angle = vec.angle_to(pg.Vector2(10,0))\n",
    "print(f'角度 = {angle}') \n",
    "print(vec/2)\n",
    "print(vec*2)"
   ]
  },
  {
   "cell_type": "code",
   "execution_count": 3,
   "metadata": {},
   "outputs": [
    {
     "name": "stdout",
     "output_type": "stream",
     "text": [
      "<class 'type'>\n",
      "<class 'pygame.math.Vector2'>\n",
      "True\n",
      "2.0\n",
      "3.605551275463989\n",
      "[0.5547, 0.83205]\n",
      "<attribute 'x' of 'pygame.math.Vector2' objects>\n"
     ]
    },
    {
     "ename": "TypeError",
     "evalue": "unbound method Vector2.length() needs an argument",
     "output_type": "error",
     "traceback": [
      "\u001b[1;31m---------------------------------------------------------------------------\u001b[0m",
      "\u001b[1;31mTypeError\u001b[0m                                 Traceback (most recent call last)",
      "Cell \u001b[1;32mIn[3], line 20\u001b[0m\n\u001b[0;32m     18\u001b[0m \u001b[38;5;28mprint\u001b[39m(vec\u001b[38;5;241m.\u001b[39mnormalize()) \u001b[38;5;66;03m# \u001b[39;00m\n\u001b[0;32m     19\u001b[0m \u001b[38;5;28mprint\u001b[39m(pg\u001b[38;5;241m.\u001b[39mVector2\u001b[38;5;241m.\u001b[39mx)\n\u001b[1;32m---> 20\u001b[0m \u001b[38;5;28mprint\u001b[39m(\u001b[43mpg\u001b[49m\u001b[38;5;241;43m.\u001b[39;49m\u001b[43mVector2\u001b[49m\u001b[38;5;241;43m.\u001b[39;49m\u001b[43mlength\u001b[49m\u001b[43m(\u001b[49m\u001b[43m)\u001b[49m)\n",
      "\u001b[1;31mTypeError\u001b[0m: unbound method Vector2.length() needs an argument"
     ]
    }
   ],
   "source": [
    "%reset -f\n",
    "import pygame as pg\n",
    "\n",
    "# pg.Vector2 は `type(型)` である\n",
    "print(type(pg.Vector2)) # => <class 'type'>\n",
    "\n",
    "# pg.Vector2 からオブジェクト (インスタンス・実体) を生成して vec に格納\n",
    "vec = pg.Vector2(2, 3)\n",
    "\n",
    "# vec は 'pygame.math.Vector2'型のオブジェクトであることを確認\n",
    "print(type(vec)) # => <class 'pygame.math.Vector2'>\n",
    "\n",
    "# vec は pg.Vector2 のオブジェクト(インスタンス) であることを確認\n",
    "print(isinstance(vec,pg.Vector2)) # => True\n",
    "\n",
    "print(vec.x)           # オブジェクトに x という変数があり、データが格納されている\n",
    "print(vec.length())    # オブジェクトに length という関数があり、実行できる\n",
    "print(vec.normalize()) # \n",
    "print(pg.Vector2.x)\n",
    "print(pg.Vector2.length())"
   ]
  },
  {
   "cell_type": "code",
   "execution_count": 6,
   "metadata": {},
   "outputs": [
    {
     "name": "stdout",
     "output_type": "stream",
     "text": [
      "<class '__main__.MyVector2'>\n",
      "2.0\n",
      "3.605551275463989\n",
      "[0.5547001962252291, 0.8320502943378437]\n",
      "[6.0,9.0]\n"
     ]
    }
   ],
   "source": [
    "%reset -f\n",
    "class MyVector2 :\n",
    "\n",
    "  # コンストラクタの定義\n",
    "  def __init__(self,init_x,init_y):\n",
    "    assert type(init_x) == int or type(init_x) == float\n",
    "    assert type(init_y) == int or type(init_y) == float\n",
    "    self.x = float(init_x)\n",
    "    self.y = float(init_y)\n",
    "  \n",
    "  # メソッド length の定義\n",
    "  def length(self):\n",
    "    return (self.x**2 + self.y**2)**0.5\n",
    "  \n",
    "  # メソッド normalize の定義\n",
    "  def normalize(self):\n",
    "    t = self.length()\n",
    "    assert t != 0  # 大きさゼロの単位ベクトルはNG\n",
    "    return [self.x/t,self.y/t]\n",
    "  \n",
    "  # メソッド scale_by の定義\n",
    "  def scale_by(self,factor):\n",
    "    assert type(factor) == int or type(factor) == float\n",
    "    self.x *= factor\n",
    "    self.y *= factor\n",
    "\n",
    "# ここから MyVector をテストするコード\n",
    "vec = MyVector2(2,3) # オブジェクト(インスタンス)の生成\n",
    "print(type(vec))\n",
    "print(vec.x)\n",
    "print(vec.length())\n",
    "print(vec.normalize())\n",
    "vec.scale_by(3)\n",
    "print(f'[{vec.x},{vec.y}]') # => [6.0,9.0]"
   ]
  }
 ],
 "metadata": {
  "kernelspec": {
   "display_name": ".venv",
   "language": "python",
   "name": "python3"
  },
  "language_info": {
   "codemirror_mode": {
    "name": "ipython",
    "version": 3
   },
   "file_extension": ".py",
   "mimetype": "text/x-python",
   "name": "python",
   "nbconvert_exporter": "python",
   "pygments_lexer": "ipython3",
   "version": "3.11.4"
  }
 },
 "nbformat": 4,
 "nbformat_minor": 2
}
